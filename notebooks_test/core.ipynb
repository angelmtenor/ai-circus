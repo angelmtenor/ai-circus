{
 "cells": [
  {
   "cell_type": "code",
   "execution_count": 7,
   "id": "4f08fa4f",
   "metadata": {},
   "outputs": [
    {
     "name": "stdout",
     "output_type": "stream",
     "text": [
      "The autoreload extension is already loaded. To reload it, use:\n",
      "  %reload_ext autoreload\n",
      "\u001b[32m2025-05-07 19:03:48\u001b[0m | \u001b[1mINFO    \u001b[0m | \u001b[36m3921330650.py:6\u001b[0m | \u001b[1mStarting the script...\u001b[0m\n"
     ]
    }
   ],
   "source": [
    "%load_ext autoreload\n",
    "%autoreload 2\n",
    "\n",
    "from smart_ai.core import logger\n",
    "\n",
    "log = logger.init(level=\"INFO\")\n",
    "log.info(\"Starting the script...\")"
   ]
  },
  {
   "cell_type": "code",
   "execution_count": 8,
   "id": "d6e14ddb",
   "metadata": {},
   "outputs": [
    {
     "name": "stdout",
     "output_type": "stream",
     "text": [
      "\u001b[32m2025-05-07 19:03:57\u001b[0m | \u001b[1mINFO    \u001b[0m | \u001b[36m2058445749.py:3\u001b[0m | \u001b[1mInfo\u001b[0m\n",
      "\u001b[32m2025-05-07 19:03:57\u001b[0m | \u001b[33m\u001b[1mWARNING \u001b[0m | \u001b[36m2058445749.py:4\u001b[0m | \u001b[33m\u001b[1mWarning\u001b[0m\n",
      "\u001b[32m2025-05-07 19:03:57\u001b[0m | \u001b[31m\u001b[1mERROR   \u001b[0m | \u001b[36m2058445749.py:5\u001b[0m | \u001b[31m\u001b[1mError\u001b[0m\n",
      "\u001b[32m2025-05-07 19:03:57\u001b[0m | \u001b[41m\u001b[1mCRITICAL\u001b[0m | \u001b[36m2058445749.py:6\u001b[0m | \u001b[41m\u001b[1mCritical\u001b[0m\n"
     ]
    }
   ],
   "source": [
    "def show_logs():\n",
    "    log.debug(\"Debug\")\n",
    "    log.info(\"Info\")\n",
    "    log.warning(\"Warning\")\n",
    "    log.error(\"Error\")\n",
    "    log.critical(\"Critical\")\n",
    "\n",
    "\n",
    "show_logs()"
   ]
  }
 ],
 "metadata": {
  "kernelspec": {
   "display_name": ".venv",
   "language": "python",
   "name": "python3"
  },
  "language_info": {
   "codemirror_mode": {
    "name": "ipython",
    "version": 3
   },
   "file_extension": ".py",
   "mimetype": "text/x-python",
   "name": "python",
   "nbconvert_exporter": "python",
   "pygments_lexer": "ipython3",
   "version": "3.13.3"
  }
 },
 "nbformat": 4,
 "nbformat_minor": 5
}
