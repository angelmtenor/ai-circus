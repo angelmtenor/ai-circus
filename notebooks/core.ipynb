{
  "cells": [
    {
      "cell_type": "code",
      "execution_count": 1,
      "id": "4f08fa4f",
      "metadata": {},
      "outputs": [
        {
          "name": "stdout",
          "output_type": "stream",
          "text": [
            "\u001b[32m2025-05-18 20:24:25\u001b[0m | \u001b[1mINFO    \u001b[0m | \u001b[36m3029202647.py:7\u001b[0m | \u001b[1mStarting the script...\u001b[0m\n"
          ]
        }
      ],
      "source": [
        "%load_ext autoreload\n",
        "%autoreload 2\n",
        "\n",
        "from ai_circus.core.logger import configure_logger\n",
        "\n",
        "logger =  configure_logger(level=\"INFO\")\n",
        "logger.info(\"Starting the script...\")"
      ]
    },
    {
      "cell_type": "code",
      "execution_count": 2,
      "id": "dfdd8085",
      "metadata": {},
      "outputs": [
        {
          "name": "stdout",
          "output_type": "stream",
          "text": [
            "\u001b[32m2025-05-18 20:24:27\u001b[0m | \u001b[1mINFO    \u001b[0m | \u001b[36minfo.py:58\u001b[0m | \u001b[1mMACHINE                  13th Gen Intel(R) Core(TM) i7-13700H (20 cores, 8 GB RAM)\u001b[0m\n",
            "\u001b[32m2025-05-18 20:24:28\u001b[0m | \u001b[1mINFO    \u001b[0m | \u001b[36minfo.py:85\u001b[0m | \u001b[1mGPU                      NVIDIA GeForce RTX 4070 Laptop GPU\u001b[0m\n",
            "\u001b[32m2025-05-18 20:24:28\u001b[0m | \u001b[1mINFO    \u001b[0m | \u001b[36minfo.py:35\u001b[0m | \u001b[1mOS                       Linux-5.15.167.4-microsoft-standard-WSL2-x86_64-with-glibc2.39\u001b[0m\n",
            "\u001b[32m2025-05-18 20:24:28\u001b[0m | \u001b[1mINFO    \u001b[0m | \u001b[36minfo.py:45\u001b[0m | \u001b[1mENV                      /home/angel/PROJECTS/ai-circus/.venv\u001b[0m\n",
            "\u001b[32m2025-05-18 20:24:28\u001b[0m | \u001b[1mINFO    \u001b[0m | \u001b[36minfo.py:46\u001b[0m | \u001b[1mPYTHON                   3.13.3\u001b[0m\n",
            "\u001b[32m2025-05-18 20:24:28\u001b[0m | \u001b[1mINFO    \u001b[0m | \u001b[36minfo.py:50\u001b[0m | \u001b[1m - httpx                 0.28.1\u001b[0m\n",
            "\u001b[32m2025-05-18 20:24:28\u001b[0m | \u001b[1mINFO    \u001b[0m | \u001b[36minfo.py:106\u001b[0m | \u001b[1mEXECUTION PATH           /home/angel/PROJECTS/ai-circus/notebooks\u001b[0m\n",
            "\u001b[32m2025-05-18 20:24:28\u001b[0m | \u001b[1mINFO    \u001b[0m | \u001b[36minfo.py:107\u001b[0m | \u001b[1mEXECUTION DATE           Sun May 18 20:24:28 2025\u001b[0m\n"
          ]
        }
      ],
      "source": [
        "from ai_circus.core.info import info_system\n",
        "\n",
        "info_system()"
      ]
    }
  ],
  "metadata": {
    "kernelspec": {
      "display_name": ".venv",
      "language": "python",
      "name": "python3"
    },
    "language_info": {
      "codemirror_mode": {
        "name": "ipython",
        "version": 3
      },
      "file_extension": ".py",
      "mimetype": "text/x-python",
      "name": "python",
      "nbconvert_exporter": "python",
      "pygments_lexer": "ipython3",
      "version": "3.13.3"
    }
  },
  "nbformat": 4,
  "nbformat_minor": 5
}
