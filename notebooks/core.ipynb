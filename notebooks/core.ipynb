{
  "cells": [
    {
      "cell_type": "code",
      "execution_count": null,
      "id": "4f08fa4f",
      "metadata": {},
      "outputs": [
        {
          "ename": "ImportError",
          "evalue": "cannot import name 'logger' from 'ai_circus.core' (/home/agmn/PROJECTS/ai-circus/src/ai_circus/core/__init__.py)",
          "output_type": "error",
          "traceback": [
            "\u001b[31m---------------------------------------------------------------------------\u001b[39m",
            "\u001b[31mImportError\u001b[39m                               Traceback (most recent call last)",
            "\u001b[36mCell\u001b[39m\u001b[36m \u001b[39m\u001b[32mIn[1]\u001b[39m\u001b[32m, line 4\u001b[39m\n\u001b[32m      1\u001b[39m get_ipython().run_line_magic(\u001b[33m'\u001b[39m\u001b[33mload_ext\u001b[39m\u001b[33m'\u001b[39m, \u001b[33m'\u001b[39m\u001b[33mautoreload\u001b[39m\u001b[33m'\u001b[39m)\n\u001b[32m      2\u001b[39m get_ipython().run_line_magic(\u001b[33m'\u001b[39m\u001b[33mautoreload\u001b[39m\u001b[33m'\u001b[39m, \u001b[33m'\u001b[39m\u001b[33m2\u001b[39m\u001b[33m'\u001b[39m)\n\u001b[32m----> \u001b[39m\u001b[32m4\u001b[39m \u001b[38;5;28;01mfrom\u001b[39;00m\u001b[38;5;250m \u001b[39m\u001b[34;01mai_circus\u001b[39;00m\u001b[34;01m.\u001b[39;00m\u001b[34;01mcore\u001b[39;00m\u001b[38;5;250m \u001b[39m\u001b[38;5;28;01mimport\u001b[39;00m logger\n\u001b[32m      6\u001b[39m logger =  logger.init(level=\u001b[33m\"\u001b[39m\u001b[33mINFO\u001b[39m\u001b[33m\"\u001b[39m)\n\u001b[32m      7\u001b[39m logger.info(\u001b[33m\"\u001b[39m\u001b[33mStarting the script...\u001b[39m\u001b[33m\"\u001b[39m)\n",
            "\u001b[31mImportError\u001b[39m: cannot import name 'logger' from 'ai_circus.core' (/home/agmn/PROJECTS/ai-circus/src/ai_circus/core/__init__.py)"
          ]
        }
      ],
      "source": [
        "%load_ext autoreload\n",
        "%autoreload 2\n",
        "\n",
        "from ai_circus.core import custom_logger\n",
        "\n",
        "logger =  custom_logger.init(level=\"INFO\")\n",
        "logger.info(\"Starting the script...\")"
      ]
    },
    {
      "cell_type": "code",
      "execution_count": null,
      "id": "d6e14ddb",
      "metadata": {},
      "outputs": [],
      "source": [
        "def show_logs():\n",
        "    logger.debug(\"Debug\")\n",
        "    logger.info(\"Info\")\n",
        "    logger.warning(\"Warning\")\n",
        "    logger.error(\"Error\")\n",
        "    logger.critical(\"Critical\")\n",
        "\n",
        "\n",
        "show_logs()"
      ]
    },
    {
      "cell_type": "code",
      "execution_count": null,
      "id": "dfdd8085",
      "metadata": {},
      "outputs": [],
      "source": [
        "from ai_circus.core.info import info_system\n",
        "\n",
        "info_system()"
      ]
    }
  ],
  "metadata": {
    "kernelspec": {
      "display_name": ".venv",
      "language": "python",
      "name": "python3"
    },
    "language_info": {
      "codemirror_mode": {
        "name": "ipython",
        "version": 3
      },
      "file_extension": ".py",
      "mimetype": "text/x-python",
      "name": "python",
      "nbconvert_exporter": "python",
      "pygments_lexer": "ipython3",
      "version": "3.13.3"
    }
  },
  "nbformat": 4,
  "nbformat_minor": 5
}
